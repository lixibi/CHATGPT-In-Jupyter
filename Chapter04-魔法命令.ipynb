{
 "cells": [
  {
   "cell_type": "code",
   "execution_count": null,
   "metadata": {},
   "outputs": [],
   "source": [
    "%%writefile chatgpt.py\n",
    "import openai\n",
    "openai.api_key = 'xxkey'\n",
    "\n",
    "def ask(prompt):\n",
    "    model=\"gpt-3.5-turbo\"\n",
    "    messages = [{\"role\": \"user\", \"content\": prompt}]\n",
    "    response = openai.ChatCompletion.create(\n",
    "        model=model,\n",
    "        messages=messages,\n",
    "        temperature=0, # this is the degree of randomness of the model's output\n",
    "    )\n",
    "    result = response.choices[0].message[\"content\"]\n",
    "    return result\n",
    "\n",
    "from IPython.core.magic import (Magics, magics_class, line_magic,\n",
    "                                cell_magic, line_cell_magic)\n",
    " \n",
    "@magics_class\n",
    "class ChatGPTMagics(Magics):\n",
    " \n",
    "    @line_magic\n",
    "    def chat(self, line):\n",
    "        return ask(line)\n",
    " \n",
    "    @cell_magic\n",
    "    def gpt(self, line, cell):\n",
    "        result = ask(cell)\n",
    "        print(result)\n",
    " \n",
    "    @line_cell_magic\n",
    "    def chatgpt(self, line, cell=None):\n",
    "        \"Magic that works both as %chatgpt and as %%chatgpt\"\n",
    "        if cell is None:\n",
    "            return ask(line)\n",
    "        else:\n",
    "            print(ask(cell))\n",
    " \n",
    " \n",
    "# In order to actually use these magics, you must register them with a\n",
    "# running IPython.\n",
    "def load_ipython_extension(ipython):\n",
    "    \"\"\"\n",
    "    Any module file that define a function named `load_ipython_extension`\n",
    "    can be loaded via `%load_ext module.path` or be configured to be\n",
    "    autoloaded by IPython at startup time.\n",
    "    \"\"\"\n",
    "    ipython.register_magics(ChatGPTMagics)"
   ]
  },
  {
   "cell_type": "code",
   "execution_count": null,
   "metadata": {},
   "outputs": [],
   "source": []
  }
 ],
 "metadata": {
  "language_info": {
   "name": "python"
  },
  "orig_nbformat": 4
 },
 "nbformat": 4,
 "nbformat_minor": 2
}
