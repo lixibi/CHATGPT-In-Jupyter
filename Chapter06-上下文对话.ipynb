{
 "cells": [
  {
   "cell_type": "code",
   "execution_count": 1,
   "metadata": {},
   "outputs": [],
   "source": [
    "%load_ext chatgpt"
   ]
  },
  {
   "cell_type": "code",
   "execution_count": 2,
   "metadata": {},
   "outputs": [],
   "source": [
    "import chatgpt as gpt\n",
    "from IPython.display import Markdown  "
   ]
  },
  {
   "cell_type": "code",
   "execution_count": 3,
   "metadata": {},
   "outputs": [],
   "source": [
    "class DictList:\n",
    "    def __init__(self):\n",
    "        self.dict_list = []\n",
    "\n",
    "    def add_dict(self, new_dict):\n",
    "        self.dict_list.append(new_dict)\n",
    "        if len(self.dict_list) > 5:\n",
    "            self.dict_list.pop(0)\n",
    "            \n",
    "    def get_dict_list(self):\n",
    "        return self.dict_list\n",
    "    \n",
    "    def clear(self):\n",
    "        self.dict_list = []\n"
   ]
  },
  {
   "cell_type": "code",
   "execution_count": 14,
   "metadata": {},
   "outputs": [],
   "source": [
    "会话1=DictList()"
   ]
  },
  {
   "cell_type": "code",
   "execution_count": 16,
   "metadata": {},
   "outputs": [],
   "source": [
    "def getgpt(prompt,d):\n",
    "    user={'role': 'user', 'content': ''}\n",
    "    user['content']=str(prompt)\n",
    "\n",
    "    dict=d.get_dict_list()\n",
    "    back=gpt.get_completion(prompt,dict)\n",
    "    \n",
    "    assistant={'role': 'assistant', 'content': ''}\n",
    "    assistant['content']=str(back)\n",
    "\n",
    "    d.add_dict(user)\n",
    "    d.add_dict(assistant)\n",
    "    d.get_dict_list()\n",
    "    return back"
   ]
  },
  {
   "cell_type": "code",
   "execution_count": null,
   "metadata": {},
   "outputs": [],
   "source": [
    "Markdown(getgpt(\"[1,2,3],[a,x,1,3]\",会话1))"
   ]
  }
 ],
 "metadata": {
  "kernelspec": {
   "display_name": "base",
   "language": "python",
   "name": "python3"
  },
  "language_info": {
   "codemirror_mode": {
    "name": "ipython",
    "version": 3
   },
   "file_extension": ".py",
   "mimetype": "text/x-python",
   "name": "python",
   "nbconvert_exporter": "python",
   "pygments_lexer": "ipython3",
   "version": "3.10.10"
  },
  "orig_nbformat": 4
 },
 "nbformat": 4,
 "nbformat_minor": 2
}
