{
 "cells": [
  {
   "cell_type": "code",
   "execution_count": 44,
   "id": "845bf35e",
   "metadata": {
    "scrolled": true
   },
   "outputs": [],
   "source": [
    "import requests\n",
    "import json\n",
    "from IPython.display import Markdown\n",
    "\n",
    "url = \"https://chatai.1rmb.tk/api/v1/chat/completions\"\n",
    "#url = \"http://closeai.deno.dev/v1/chat/completions\"\n",
    "#url = \"http://api.lixining.com/v1/chat/completions\"\n",
    "#返向服务器地址 如果失效了可以更换\n",
    "\n",
    "api_key = ''#你的API\n",
    "\n",
    "headers = {\n",
    "  'Authorization': f'Bearer {api_key}',\n",
    "  'Content-Type': 'application/json'\n",
    "}"
   ]
  },
  {
   "cell_type": "code",
   "execution_count": 45,
   "id": "4f4aa720",
   "metadata": {},
   "outputs": [],
   "source": [
    "#获取消息的函数\n",
    "def get_completion(prompt):\n",
    "    payload = {\n",
    "      \"model\": \"gpt-3.5-turbo\",\n",
    "      \"messages\": [\n",
    "        {\n",
    "          \"role\": \"user\",\n",
    "          \"content\": f\"{prompt}\"\n",
    "        }\n",
    "      ]\n",
    "    }\n",
    "    try:\n",
    "        response = requests.post(url, headers=headers, json=payload)\n",
    "        response.raise_for_status() # 抛出异常，如果响应码不是200\n",
    "        data = response.json()\n",
    "        return (data[\"choices\"][0][\"message\"][\"content\"])\n",
    "    except requests.exceptions.RequestException as e:\n",
    "        print(f\"请求错误: {e} \\n {data}\")\n",
    "    except json.JSONDecodeError as e:\n",
    "        print(f\"无效的 JSON 响应: {e}\\n {data}\")\n",
    "    except KeyError as e:\n",
    "        print(f\"解析 JSON 错误: {e}\\n {data}\")"
   ]
  },
  {
   "cell_type": "code",
   "execution_count": 46,
   "id": "057bb004",
   "metadata": {},
   "outputs": [
    {
     "data": {
      "text/plain": [
       "'Hello! How can I assist you today?'"
      ]
     },
     "execution_count": 46,
     "metadata": {},
     "output_type": "execute_result"
    }
   ],
   "source": [
    "get_completion(\"hello world\")"
   ]
  },
  {
   "cell_type": "code",
   "execution_count": 47,
   "id": "2917b167",
   "metadata": {},
   "outputs": [
    {
     "data": {
      "text/markdown": [
       "语法：\n",
       "\n",
       "这行代码定义了一个名为v的std::vector<int>类型的变量，并给它赋初值。初始值是通过一个包含5个元素的括号表达式来实现的，这个表达式使用逗号分隔每个值。\n",
       "\n",
       "语义：\n",
       "\n",
       "该代码定义了一个std::vector<int>类型的变量v，并初始化为{2, 15, 1, 8, 3}，其中逗号用于分隔每个值。这里使用逗号运算符的目的是对于一个由不同值组成的序列，将它们组合在一起，从而生成一个括号表达式的值为最后一个元素的序列。因此，(2, 15, 1, 8, 3)表示一个值为3的序列，并将其分配给v。"
      ],
      "text/plain": [
       "<IPython.core.display.Markdown object>"
      ]
     },
     "execution_count": 47,
     "metadata": {},
     "output_type": "execute_result"
    }
   ],
   "source": [
    "text=f\"\"\"std::vector<int> v = {2, 15, 1, 8, 3};\"\"\"\n",
    "prompt = f\"\"\"\n",
    "我希望你能充当代码解释者，帮我阐明下面三个引号括起来的代码的语法和语义。使用markdown格式回复我。\\。\n",
    "\\\"\\\"\\\"{text}\\\"\\\"\\\"\n",
    "\"\"\"\n",
    "response = get_completion(prompt)\n",
    "Markdown(response)"
   ]
  },
  {
   "cell_type": "code",
   "execution_count": null,
   "id": "2b9c488e",
   "metadata": {},
   "outputs": [],
   "source": [
    "def chatgpt(text):\n",
    "    prompt = f\"\"\"\n",
    "    我希望你能作为一个诗人。你要创作出能唤起人们情感并有力量搅动人们灵魂的诗篇。\\\n",
    "    写任何话题或主题，但要确保你的文字以美丽而有意义的方式传达你所要表达的感觉。你也可以想出一些短小的诗句，\\\n",
    "    但仍有足够的力量在读者心中留下印记。请用下面三个引号括起来的文本，创作一首古诗，使用markdown格式回复我。\\。\n",
    "    \\\"\\\"\\\"{text}\\\"\\\"\\\"\n",
    "    \"\"\"\n",
    "    response = get_completion(prompt)\n",
    "    return Markdown(response)"
   ]
  },
  {
   "cell_type": "code",
   "execution_count": null,
   "id": "0b8198fe",
   "metadata": {},
   "outputs": [],
   "source": [
    "chatgpt(\"思绪随风逝，往事转眼休。\")"
   ]
  },
  {
   "cell_type": "code",
   "execution_count": null,
   "id": "cac2b014",
   "metadata": {},
   "outputs": [],
   "source": [
    "def title(text):\n",
    "    text_1 = f\"\"\"\n",
    "    {text}\n",
    "    \"\"\"\n",
    "    prompt = f\"\"\"\n",
    "    您将获得由三个引号括起来的文本。\\\n",
    "    请在这段里面找某个角度，拟定一个调研课题，并进行简单的设计，使用markdown格式回复我。\n",
    "\n",
    "\n",
    "    \\\"\\\"\\\"{text_1}\\\"\\\"\\\"\n",
    "    \"\"\"\n",
    "    response = get_completion(prompt)\n",
    "    #print(\"调研题目:\")\n",
    "    return (response)"
   ]
  },
  {
   "cell_type": "code",
   "execution_count": null,
   "id": "83b51ef4",
   "metadata": {},
   "outputs": [],
   "source": [
    "def UsereMotions(text):\n",
    "    prompt = f\"\"\"\n",
    "    下面三个引号括起来的内容是某部影视作品的短评，帮我根据内容的感情色彩分为正面、负面评价，分类好后，直接选择一个最接近的结果答复我，不要回复其他内容。\\。\n",
    "    \\\"\\\"\\\"{text}\\\"\\\"\\\"\n",
    "    \"\"\"\n",
    "    response = get_completion(prompt)\n",
    "    return (response)"
   ]
  },
  {
   "cell_type": "code",
   "execution_count": 45,
   "id": "507f64a7",
   "metadata": {},
   "outputs": [
    {
     "data": {
      "text/plain": [
       "'负面评价。'"
      ]
     },
     "execution_count": 45,
     "metadata": {},
     "output_type": "execute_result"
    }
   ],
   "source": [
    "评论内容=f\"\"\"\n",
    "国产主题剧里只要是出现了为煽情而煽情的画面一般都有点……一个牛逼哄哄自信\\\n",
    "爆棚的年轻人总是有点桀骜不驯然后被老选手九死一生拯救回来，\\\n",
    "把自信心揉碎再乖乖学习的老套路一成不变，在多少电影里看过了。\n",
    "\"\"\"\n",
    "UsereMotions(评论内容)"
   ]
  },
  {
   "cell_type": "code",
   "execution_count": null,
   "id": "e5e0df75",
   "metadata": {},
   "outputs": [],
   "source": [
    "import pandas as pd\n",
    "\n",
    "# 评论列表\n",
    "string_list = [\"没有耳机，还得自己花钱再买耳机\", \"外形外观：颜值不错，手感也很好\", \"用着挺好的，还挺满意\",\"大字体，大图标，细心教老人很喜欢用\",\"卡顿很严重，发热控制不好\"]\n",
    "\n",
    "df = pd.DataFrame({'评价内容': string_list, '评价分类': None})\n",
    "df"
   ]
  },
  {
   "cell_type": "code",
   "execution_count": null,
   "id": "0af64268",
   "metadata": {},
   "outputs": [],
   "source": []
  },
  {
   "cell_type": "code",
   "execution_count": null,
   "id": "1cacfd14",
   "metadata": {},
   "outputs": [],
   "source": []
  },
  {
   "cell_type": "code",
   "execution_count": null,
   "id": "ad9e6b8c",
   "metadata": {},
   "outputs": [],
   "source": [
    "df['评价分类'] = df['评价内容'].apply(UsereMotions)\n",
    "df"
   ]
  },
  {
   "cell_type": "code",
   "execution_count": null,
   "id": "a5e733fc",
   "metadata": {},
   "outputs": [],
   "source": []
  },
  {
   "cell_type": "code",
   "execution_count": null,
   "id": "5ff400a2",
   "metadata": {},
   "outputs": [],
   "source": []
  }
 ],
 "metadata": {
  "kernelspec": {
   "display_name": "Python 3 (ipykernel)",
   "language": "python",
   "name": "python3"
  },
  "language_info": {
   "codemirror_mode": {
    "name": "ipython",
    "version": 3
   },
   "file_extension": ".py",
   "mimetype": "text/x-python",
   "name": "python",
   "nbconvert_exporter": "python",
   "pygments_lexer": "ipython3",
   "version": "3.10.10"
  }
 },
 "nbformat": 4,
 "nbformat_minor": 5
}
