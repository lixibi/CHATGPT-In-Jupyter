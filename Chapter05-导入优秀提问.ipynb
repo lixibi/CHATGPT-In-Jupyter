{
 "cells": [
  {
   "cell_type": "code",
   "execution_count": null,
   "metadata": {},
   "outputs": [],
   "source": [
    "%load_ext chatgpt"
   ]
  },
  {
   "cell_type": "code",
   "execution_count": null,
   "metadata": {},
   "outputs": [],
   "source": [
    "%%chatgpt\n",
    "你好"
   ]
  },
  {
   "cell_type": "code",
   "execution_count": 29,
   "metadata": {},
   "outputs": [],
   "source": [
    "import csv\n",
    "import pandas as pd\n",
    "\n",
    "def read_md_table(filename):\n",
    "    with open(filename, newline='') as csvfile:\n",
    "        data = list(csv.reader(csvfile, delimiter='|'))\n",
    "    return data\n",
    "\n",
    "data=None\n",
    "filename = './data/q.md'\n",
    "\n",
    "data=read_md_table(filename)\n",
    "\n",
    "df = pd.DataFrame(data=data)\n",
    "\n"
   ]
  },
  {
   "cell_type": "code",
   "execution_count": 67,
   "metadata": {},
   "outputs": [],
   "source": [
    "def search(keyword):\n",
    "    # df为pandas对象，keyword为需要搜索的关键词\n",
    "    result = df[df[2].str.contains(keyword, na=False)]\n",
    "    #使用str.contains()方法进行模糊搜索，na=False表示不包括缺失值\n",
    "    print(result[2])\n"
   ]
  },
  {
   "cell_type": "code",
   "execution_count": 69,
   "metadata": {},
   "outputs": [
    {
     "name": "stdout",
     "output_type": "stream",
     "text": [
      "9713                          请对以下文章进行关键词提取，并输出提取结果：[插入一篇长文]\n",
      "10820                      使用自然语言处理技术，如何对一篇英文文章进行关键词提取和情感分析？\n",
      "15370                          如何使用自然语言处理技术对大规模文本数据进行关键词提取？ \n",
      "20997       对于文本 \"自然语言处理是一门非常有用的技术，它可以帮助计算机理解人类的语言。\" 进行关键...\n",
      "23033       如何对一篇英文新闻文章进行关键词提取？                          ...\n",
      "                                 ...                        \n",
      "1331052                 如何利用自然语言处理技术进行关键词提取和文本分类？           \n",
      "1332357     将以下句子中的关键词提取出来：\"为了更好地服务客户，我们将推出全新的会员制度，并加强网站的...\n",
      "1334424                   如何使用自然语言处理技术，对一篇英文论文进行关键词提取和摘要生成？ \n",
      "1342189     使用自然语言处理技术对一篇新闻文章进行关键词提取和实体识别。               ...\n",
      "1344576                           利用自然语言处理技术，如何实现情感识别与关键词提取？\n",
      "Name: 2, Length: 350, dtype: object\n"
     ]
    }
   ],
   "source": [
    "search('关键词提取')"
   ]
  },
  {
   "cell_type": "code",
   "execution_count": 70,
   "metadata": {},
   "outputs": [
    {
     "data": {
      "text/markdown": [
       "关键词提取结果：\n",
       "\n",
       "\"旅程\"，\"春\"，\"推迟\"，\"深秋\"，\"行程计划\"，\"失落\"，\"到达\"，\"目的地\"，\"美景\"，\"心情\"。"
      ],
      "text/plain": [
       "<IPython.core.display.Markdown object>"
      ]
     },
     "execution_count": 70,
     "metadata": {},
     "output_type": "execute_result"
    }
   ],
   "source": [
    "%%chatgpt\n",
    "请对以下文章进行关键词提取，并输出提取结果：\n",
    "\"\"\" 我本该在早春的时节踏上这段旅程，但是因为一些事情，我的行程被推迟到了深秋。对于习惯了行程计划的我来说，耽误了这么多时间让我感到非常的失落，但是当我终于到达目的地，看到眼前的美景，我的心情又重新恢复了起来。\"\"\""
   ]
  },
  {
   "cell_type": "code",
   "execution_count": null,
   "metadata": {},
   "outputs": [],
   "source": []
  }
 ],
 "metadata": {
  "kernelspec": {
   "display_name": "base",
   "language": "python",
   "name": "python3"
  },
  "language_info": {
   "codemirror_mode": {
    "name": "ipython",
    "version": 3
   },
   "file_extension": ".py",
   "mimetype": "text/x-python",
   "name": "python",
   "nbconvert_exporter": "python",
   "pygments_lexer": "ipython3",
   "version": "3.10.10"
  },
  "orig_nbformat": 4
 },
 "nbformat": 4,
 "nbformat_minor": 2
}
