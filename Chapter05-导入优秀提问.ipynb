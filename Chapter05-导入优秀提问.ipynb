{
 "cells": [
  {
   "cell_type": "code",
   "execution_count": null,
   "metadata": {},
   "outputs": [],
   "source": [
    "%load_ext chatgpt"
   ]
  },
  {
   "cell_type": "code",
   "execution_count": null,
   "metadata": {},
   "outputs": [],
   "source": [
    "%%chatgpt\n",
    "你好"
   ]
  },
  {
   "cell_type": "code",
   "execution_count": null,
   "metadata": {},
   "outputs": [],
   "source": [
    "import csv\n",
    "import pandas as pd\n",
    "\n",
    "def read_md_table(filename):\n",
    "    with open(filename, newline='') as csvfile:\n",
    "        data = list(csv.reader(csvfile, delimiter='|'))\n",
    "    return data\n",
    "\n",
    "data=None\n",
    "filename = './data/q.md'\n",
    "\n",
    "data=read_md_table(filename)\n",
    "\n",
    "df = pd.DataFrame(data=data)\n",
    "\n"
   ]
  },
  {
   "cell_type": "code",
   "execution_count": null,
   "metadata": {},
   "outputs": [],
   "source": [
    "def search(keyword):\n",
    "    # df为pandas对象，keyword为需要搜索的关键词\n",
    "    result = df[df[2].str.contains(keyword, na=False)]\n",
    "    #使用str.contains()方法进行模糊搜索，na=False表示不包括缺失值\n",
    "    print(result[2])\n"
   ]
  },
  {
   "cell_type": "code",
   "execution_count": null,
   "metadata": {},
   "outputs": [],
   "source": [
    "search('关键词提取')"
   ]
  },
  {
   "cell_type": "code",
   "execution_count": null,
   "metadata": {},
   "outputs": [],
   "source": [
    "%%chatgpt\n",
    "请对以下文章进行关键词提取，并输出提取结果：\n",
    "\"\"\" 我本该在早春的时节踏上这段旅程，但是因为一些事情，我的行程被推迟到了深秋。对于习惯了行程计划的我来说，耽误了这么多时间让我感到非常的失落，但是当我终于到达目的地，看到眼前的美景，我的心情又重新恢复了起来。\"\"\""
   ]
  },
  {
   "cell_type": "code",
   "execution_count": null,
   "metadata": {},
   "outputs": [],
   "source": []
  }
 ],
 "metadata": {
  "kernelspec": {
   "display_name": "base",
   "language": "python",
   "name": "python3"
  },
  "language_info": {
   "codemirror_mode": {
    "name": "ipython",
    "version": 3
   },
   "file_extension": ".py",
   "mimetype": "text/x-python",
   "name": "python",
   "nbconvert_exporter": "python",
   "pygments_lexer": "ipython3",
   "version": "3.10.10"
  },
  "orig_nbformat": 4
 },
 "nbformat": 4,
 "nbformat_minor": 2
}
