{
 "cells": [
  {
   "cell_type": "code",
   "execution_count": null,
   "metadata": {},
   "outputs": [],
   "source": [
    "import requests\n",
    "import json\n",
    "import time\n",
    "import pandas as pd\n",
    "from IPython.display import Markdown  "
   ]
  },
  {
   "cell_type": "code",
   "execution_count": null,
   "metadata": {},
   "outputs": [],
   "source": [
    "import requests\n",
    "import json\n",
    "from IPython.display import Markdown\n",
    "\n",
    "url = \"https://chatai.1rmb.tk/api/v1/chat/completions\"\n",
    "#url = \"https://closeai.deno.dev/v1/chat/completions\"\n",
    "#url = \"https://api.lixining.com/v1/chat/completions\"\n",
    "#返向服务器地址 如果失效了可以更换\n",
    "\n",
    "api_key = ''#你的API\n",
    "\n",
    "headers = {\n",
    "  'Authorization': f'Bearer {api_key}',\n",
    "  'Content-Type': 'application/json'\n",
    "}"
   ]
  },
  {
   "cell_type": "code",
   "execution_count": null,
   "metadata": {},
   "outputs": [],
   "source": [
    "#获取消息的函数\n",
    "def get_completion(prompt):\n",
    "    payload = {\n",
    "      \"model\": \"gpt-3.5-turbo\",\n",
    "      \"messages\": [\n",
    "        {\n",
    "          \"role\": \"user\",\n",
    "          \"content\": f\"{prompt}\"\n",
    "        }\n",
    "      ]\n",
    "    }\n",
    "    try:\n",
    "        response = requests.post(url, headers=headers, json=payload)\n",
    "        response.raise_for_status() # 抛出异常，如果响应码不是200\n",
    "        data = response.json()\n",
    "        return (data[\"choices\"][0][\"message\"][\"content\"])\n",
    "    except requests.exceptions.RequestException as e:\n",
    "        print(f\"请求错误: {e} \\n {data}\")\n",
    "    except json.JSONDecodeError as e:\n",
    "        print(f\"无效的 JSON 响应: {e}\\n {data}\")\n",
    "    except KeyError as e:\n",
    "        print(f\"解析 JSON 错误: {e}\\n {data}\")"
   ]
  },
  {
   "cell_type": "code",
   "execution_count": null,
   "metadata": {},
   "outputs": [
    {
     "data": {
      "text/plain": [
       "'Hello! How can I assist you today?'"
      ]
     },
     "metadata": {},
     "output_type": "display_data"
    }
   ],
   "source": [
    "get_completion(\"hello world\")"
   ]
  },
  {
   "cell_type": "code",
   "execution_count": null,
   "metadata": {},
   "outputs": [
    {
     "data": {
      "text/markdown": [
       "语法：\n",
       "\n",
       "这行代码定义了一个名为v的std::vector<int>类型的变量，并给它赋初值。初始值是通过一个包含5个元素的括号表达式来实现的，这个表达式使用逗号分隔每个值。\n",
       "\n",
       "语义：\n",
       "\n",
       "该代码定义了一个std::vector<int>类型的变量v，并初始化为{2, 15, 1, 8, 3}，其中逗号用于分隔每个值。这里使用逗号运算符的目的是对于一个由不同值组成的序列，将它们组合在一起，从而生成一个括号表达式的值为最后一个元素的序列。因此，(2, 15, 1, 8, 3)表示一个值为3的序列，并将其分配给v。"
      ],
      "text/plain": [
       "<IPython.core.display.Markdown object>"
      ]
     },
     "metadata": {},
     "output_type": "display_data"
    }
   ],
   "source": [
    "text=f\"\"\"std::vector<int> v = {2, 15, 1, 8, 3};\"\"\"\n",
    "prompt = f\"\"\"\n",
    "我希望你能充当代码解释者，帮我阐明下面三个引号括起来的代码的语法和语义。使用markdown格式回复我。\\。\n",
    "\\\"\\\"\\\"{text}\\\"\\\"\\\"\n",
    "\"\"\"\n",
    "response = get_completion(prompt)\n",
    "Markdown(response)"
   ]
  },
  {
   "cell_type": "code",
   "execution_count": null,
   "metadata": {},
   "outputs": [],
   "source": [
    "def chatgpt(text):\n",
    "    prompt = f\"\"\"\n",
    "    我希望你能作为一个诗人。你要创作出能唤起人们情感并有力量搅动人们灵魂的诗篇。\\\n",
    "    写任何话题或主题，但要确保你的文字以美丽而有意义的方式传达你所要表达的感觉。你也可以想出一些短小的诗句，\\\n",
    "    但仍有足够的力量在读者心中留下印记。请用下面三个引号括起来的文本，创作一首古诗，使用markdown格式回复我。\\。\n",
    "    \\\"\\\"\\\"{text}\\\"\\\"\\\"\n",
    "    \"\"\"\n",
    "    response = get_completion(prompt)\n",
    "    return Markdown(response)"
   ]
  },
  {
   "cell_type": "code",
   "execution_count": null,
   "metadata": {},
   "outputs": [],
   "source": [
    "chatgpt(\"思绪随风逝，往事转眼休。\")"
   ]
  },
  {
   "cell_type": "code",
   "execution_count": null,
   "metadata": {},
   "outputs": [],
   "source": [
    "def title(text):\n",
    "    text_1 = f\"\"\"\n",
    "    {text}\n",
    "    \"\"\"\n",
    "    prompt = f\"\"\"\n",
    "    您将获得由三个引号括起来的文本。\\\n",
    "    请在这段里面找某个角度，拟定一个调研课题，并进行简单的设计，使用markdown格式回复我。\n",
    "\n",
    "\n",
    "    \\\"\\\"\\\"{text_1}\\\"\\\"\\\"\n",
    "    \"\"\"\n",
    "    response = get_completion(prompt)\n",
    "    #print(\"调研题目:\")\n",
    "    return (response)"
   ]
  },
  {
   "cell_type": "code",
   "execution_count": null,
   "metadata": {},
   "outputs": [],
   "source": [
    "def UsereMotions(text):\n",
    "    prompt = f\"\"\"\n",
    "    下面三个引号括起来的内容是某部影视作品的短评，帮我根据内容的感情色彩分为正面、负面评价，分类好后，直接选择一个最接近的结果答复我，不要回复其他内容。\\。\n",
    "    \\\"\\\"\\\"{text}\\\"\\\"\\\"\n",
    "    \"\"\"\n",
    "    response = get_completion(prompt)\n",
    "    return (response)"
   ]
  },
  {
   "cell_type": "code",
   "execution_count": null,
   "metadata": {},
   "outputs": [
    {
     "data": {
      "text/plain": [
       "'负面评价。'"
      ]
     },
     "metadata": {},
     "output_type": "display_data"
    }
   ],
   "source": [
    "评论内容=f\"\"\"\n",
    "国产主题剧里只要是出现了为煽情而煽情的画面一般都有点……一个牛逼哄哄自信\\\n",
    "爆棚的年轻人总是有点桀骜不驯然后被老选手九死一生拯救回来，\\\n",
    "把自信心揉碎再乖乖学习的老套路一成不变，在多少电影里看过了。\n",
    "\"\"\"\n",
    "UsereMotions(评论内容)"
   ]
  },
  {
   "cell_type": "code",
   "execution_count": null,
   "metadata": {},
   "outputs": [],
   "source": [
    "import pandas as pd\n",
    "\n",
    "# 评论列表\n",
    "string_list = [\"没有耳机，还得自己花钱再买耳机\", \"外形外观：颜值不错，手感也很好\", \"用着挺好的，还挺满意\",\"大字体，大图标，细心教老人很喜欢用\",\"卡顿很严重，发热控制不好\"]\n",
    "\n",
    "df = pd.DataFrame({'评价内容': string_list, '评价分类': None})\n",
    "df"
   ]
  },
  {
   "cell_type": "code",
   "execution_count": null,
   "metadata": {},
   "outputs": [],
   "source": []
  },
  {
   "cell_type": "code",
   "execution_count": null,
   "metadata": {},
   "outputs": [],
   "source": []
  },
  {
   "cell_type": "code",
   "execution_count": null,
   "metadata": {},
   "outputs": [],
   "source": [
    "df['评价分类'] = df['评价内容'].apply(UsereMotions)\n",
    "df"
   ]
  },
  {
   "cell_type": "code",
   "execution_count": null,
   "metadata": {},
   "outputs": [],
   "source": []
  },
  {
   "cell_type": "code",
   "execution_count": null,
   "metadata": {},
   "outputs": [],
   "source": []
  },
  {
   "cell_type": "code",
   "execution_count": null,
   "metadata": {},
   "outputs": [],
   "source": [
    "import os \n",
    "import ast\n",
    "\n",
    "def read_list_from_env_file(file_path):# 从文件中读取列表\n",
    "    with open(file_path) as f:\n",
    "        content = f.read().strip()\n",
    "    # 从字符串中解析出列表\n",
    "    lst = ast.literal_eval(content)\n",
    "    return lst"
   ]
  },
  {
   "cell_type": "code",
   "execution_count": null,
   "metadata": {},
   "outputs": [],
   "source": [
    "api_keys=read_list_from_env_file(\".env\")# 读取.env文件中的API_KEY"
   ]
  },
  {
   "cell_type": "code",
   "execution_count": null,
   "metadata": {},
   "outputs": [],
   "source": [
    "class APIPool:\n",
    "    def __init__(self,tokens):\n",
    "        self.tokens=tokens\n",
    "        self.last_called={token:0 for token in tokens}  #上次调用时间\n",
    "    def getapi(self):\n",
    "        now = int(time.time())\n",
    "        for token in self.tokens:\n",
    "            if self.last_called[token]+21 <=now:    \n",
    "                self.last_called[token]=now\n",
    "                return token\n",
    "        time.sleep(self.last_called[self.tokens[0]]+21-now) #等待\n",
    "        return self.getapi() #重新调用\n",
    "    def reset(self):\n",
    "        self.last_called={token:0 for token in self.tokens}#重置"
   ]
  },
  {
   "cell_type": "code",
   "execution_count": null,
   "metadata": {},
   "outputs": [],
   "source": [
    "print(\"hello world!\")"
   ]
  },
  {
   "cell_type": "code",
   "execution_count": null,
   "metadata": {},
   "outputs": [],
   "source": [
    "A=APIPool(api_keys) #创建API池"
   ]
  },
  {
   "cell_type": "code",
   "execution_count": null,
   "metadata": {},
   "outputs": [],
   "source": [
    "url = \"https://api.lixining.com/v1/chat/completions\" # 选择一个API\n",
    "#反向代理 如失效需要 更换到上面\n",
    "#https://openai.1rmb.tk/v1/chat/completions\n",
    "#https://ai.fakeopen.com/v1/chat/completions\n",
    "#https://api.lixining.com/v1/chat/completions"
   ]
  },
  {
   "cell_type": "code",
   "execution_count": null,
   "metadata": {},
   "outputs": [],
   "source": [
    "def get_header():# 获取请求头\n",
    "    header={\n",
    "  'Authorization': f'Bearer {A.getapi()}',\n",
    "  'Content-Type': 'application/json'\n",
    "    }\n",
    "    return header"
   ]
  },
  {
   "cell_type": "code",
   "execution_count": null,
   "metadata": {},
   "outputs": [],
   "source": [
    "print(get_header())"
   ]
  },
  {
   "cell_type": "code",
   "execution_count": null,
   "metadata": {},
   "outputs": [],
   "source": [
    "#获取消息的函数\n",
    "def get_completion(prompt):\n",
    "    payload = {\n",
    "      \"model\": \"gpt-3.5-turbo\",\n",
    "      \"messages\": [\n",
    "          {\"role\": \"system\", \"content\": f\"You are ChatGPT, a large language model trained by OpenAI. \\\n",
    "            Follow the user's instructions carefully. Respond using markdown.\"},\n",
    "        {\n",
    "          \"role\": \"user\",\n",
    "          \"content\": f\"{prompt}\"\n",
    "        }\n",
    "      ]\n",
    "    }\n",
    "    data=None\n",
    "    try:\n",
    "        response = requests.post(url, headers=get_header(), json=payload)\n",
    "        response.raise_for_status() # 抛出异常，如果响应码不是200\n",
    "        data = response.json()\n",
    "        return (data[\"choices\"][0][\"message\"][\"content\"])\n",
    "    except requests.exceptions.RequestException as e:\n",
    "        print(f\"请求错误: {e} \\n {data}\")\n",
    "    except json.JSONDecodeError as e:\n",
    "        print(f\"无效的 JSON 响应: {e}\\n {data}\")\n",
    "    except KeyError as e:\n",
    "        print(f\"解析 JSON 错误: {e}\\n {data}\")"
   ]
  },
  {
   "cell_type": "code",
   "execution_count": null,
   "metadata": {},
   "outputs": [],
   "source": [
    "class TextStorage:\n",
    "    def __init__(self):\n",
    "        self.text = \"\"\n",
    "\n",
    "    def add_text(self, new_text):\n",
    "        self.text += str(new_text)\n",
    "\n",
    "    def get_text(self):\n",
    "        return self.text\n",
    "    \n",
    "    def clear_text(self):\n",
    "        self.text = \"\""
   ]
  },
  {
   "cell_type": "code",
   "execution_count": null,
   "metadata": {},
   "outputs": [],
   "source": [
    "with open(\"./data/readinglist.json\", \"r\") as f:\n",
    "    reading_list = json.load(f)"
   ]
  },
  {
   "cell_type": "code",
   "execution_count": null,
   "metadata": {},
   "outputs": [],
   "source": [
    "reading_list,type(reading_list)\n",
    "T=TextStorage()"
   ]
  },
  {
   "cell_type": "code",
   "execution_count": 125,
   "metadata": {},
   "outputs": [
    {
     "data": {
      "text/plain": [
       "'\"人月神话\"'"
      ]
     },
     "metadata": {},
     "output_type": "display_data"
    },
    {
     "data": {
      "text/plain": [
       "'\"操作系统概念\"'"
      ]
     },
     "metadata": {},
     "output_type": "display_data"
    },
    {
     "data": {
      "text/plain": [
       "'\"编译原理\"'"
      ]
     },
     "metadata": {},
     "output_type": "display_data"
    },
    {
     "data": {
      "text/plain": [
       "'\"Unix 编程艺术\"'"
      ]
     },
     "metadata": {},
     "output_type": "display_data"
    },
    {
     "name": "stdout",
     "output_type": "stream",
     "text": [
      "解析 JSON 错误: 'choices'\n",
      " {'error': {'message': 'Rate limit reached for default-gpt-3.5-turbo in organization org-SjJboAKeF2Eoty5Z9L91NDDX on requests per min. Limit: 3 / min. Please try again in 20s. Contact us through our help center at help.openai.com if you continue to have issues. Please add a payment method to your account to increase your rate limit. Visit https://platform.openai.com/account/billing to add a payment method.', 'type': 'requests', 'param': None, 'code': None}}\n"
     ]
    },
    {
     "data": {
      "text/plain": [
       "'\"Java编程思想\"'"
      ]
     },
     "metadata": {},
     "output_type": "display_data"
    },
    {
     "data": {
      "text/plain": [
       "'\"设计模式：可复用面向对象软件的基础\"'"
      ]
     },
     "metadata": {},
     "output_type": "display_data"
    },
    {
     "data": {
      "text/plain": [
       "'\"TCP/IP详解\"'"
      ]
     },
     "metadata": {},
     "output_type": "display_data"
    },
    {
     "data": {
      "text/plain": [
       "'\"算法导论\"'"
      ]
     },
     "metadata": {},
     "output_type": "display_data"
    },
    {
     "data": {
      "text/plain": [
       "'\"代码大全\"'"
      ]
     },
     "metadata": {},
     "output_type": "display_data"
    },
    {
     "data": {
      "text/plain": [
       "'\"人工智能：一种现代的方法\"'"
      ]
     },
     "metadata": {},
     "output_type": "display_data"
    },
    {
     "data": {
      "text/plain": [
       "'\"Head First 设计模式\"'"
      ]
     },
     "metadata": {},
     "output_type": "display_data"
    },
    {
     "data": {
      "text/plain": [
       "'\"人类简史：从动物到上帝\"'"
      ]
     },
     "metadata": {},
     "output_type": "display_data"
    },
    {
     "data": {
      "text/plain": [
       "'\"深度学习\"'"
      ]
     },
     "metadata": {},
     "output_type": "display_data"
    }
   ],
   "source": [
    "prompt = f\"\"\"\n",
    "下面是三个引号括起来的JSON格式数据，增加一个列名为简介的列，把简介补充好,转换成HTML表格,表格要有分割线样式，只回答我html代码:\n",
    "\n",
    "\"\"\"\n",
    "for book in reading_list: \n",
    "    display((json.dumps(book[\"书名\"],ensure_ascii=False)))\n",
    "    response = get_completion(f\"{prompt}+\\\"\\\"\\\"{json.dumps(book)}\\\"\\\"\\\"\")\n",
    "    T.add_text(response)\n",
    "    "
   ]
  },
  {
   "cell_type": "code",
   "execution_count": null,
   "metadata": {},
   "outputs": [],
   "source": [
    "HTML(T.get_text())"
   ]
  },
  {
   "cell_type": "code",
   "execution_count": null,
   "metadata": {},
   "outputs": [],
   "source": []
  },
  {
   "cell_type": "code",
   "execution_count": null,
   "metadata": {},
   "outputs": [],
   "source": []
  }
 ],
 "metadata": {
  "kernelspec": {
   "display_name": "base",
   "language": "python",
   "name": "python3"
  },
  "language_info": {
   "codemirror_mode": {
    "name": "ipython",
    "version": 3
   },
   "file_extension": ".py",
   "mimetype": "text/x-python",
   "name": "python",
   "nbconvert_exporter": "python",
   "pygments_lexer": "ipython3",
   "version": "3.10.10"
  },
  "orig_nbformat": 4
 },
 "nbformat": 4,
 "nbformat_minor": 2
}
